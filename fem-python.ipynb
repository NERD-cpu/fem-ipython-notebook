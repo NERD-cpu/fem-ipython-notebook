{
 "metadata": {
  "name": "",
  "signature": "sha256:6f2df844ebca2106c1a41b082280961b58e8d6ff77fb75edaebcce15e283f1cf"
 },
 "nbformat": 3,
 "nbformat_minor": 0,
 "worksheets": [
  {
   "cells": [
    {
     "cell_type": "markdown",
     "metadata": {},
     "source": [
      "# Finite Elements Notebook\n",
      "*Arthur B. Soprano - arthursoprano@gmail.com*\n",
      "Indroduction\n",
      "------\n",
      "This notebook intends to give a brief review and a short example of the **Finite Element Method - FEM** using Python programming language.  "
     ]
    },
    {
     "cell_type": "markdown",
     "metadata": {},
     "source": [
      "First, let's import the necessary packages. We'll need [numpy](http://www.numpy.org/) and [matplotlib](http://matplotlib.org/)."
     ]
    },
    {
     "cell_type": "code",
     "collapsed": false,
     "input": [
      "import numpy as np\n",
      "import matplotlib.pyplot as plt\n",
      "\n",
      "# Remove this line for a pop-up plot\n",
      "#%matplotlib inline "
     ],
     "language": "python",
     "metadata": {},
     "outputs": [],
     "prompt_number": 1
    },
    {
     "cell_type": "markdown",
     "metadata": {},
     "source": [
      "Now let's load our data. We'll work with two example cases: a small case and a large case. The input data is rather large, hence it will be configured in an external Python script (`fem_data.py`). From this script, we'll import the class `Setup` and the methods `GetSetupLargeCase` and `GetSetupSmallCase`, as they will configure our two examples.\n",
      "\n",
      "The setup includes constants and variables such as the number of degrees of freedom, the coordinates of each node, the number of elements and the conectivity array, as well as the boundary conditions and properties of our problem.\n",
      "\n",
      "Some hipotesis that will be assumed are:\n",
      "1. All elements have the same number of nodes;\n",
      "2. Properties are the same for all elements;\n"
     ]
    },
    {
     "cell_type": "code",
     "collapsed": false,
     "input": [
      "from fem_data import Setup, GetSetupLargeCase, GetSetupSmallCase\n",
      "setup = Setup()\n",
      "#GetSetupSmallCase(setup)\n",
      "GetSetupLargeCase(setup)"
     ],
     "language": "python",
     "metadata": {},
     "outputs": [],
     "prompt_number": 2
    },
    {
     "cell_type": "code",
     "collapsed": false,
     "input": [
      "number_of_dof        = setup.NumGL # number of defrees of freedom\n",
      "number_of_nodes_el   = setup.NumNosEl\n",
      "number_of_nodes      = setup.NumNos\n",
      "coordinates          = setup.Coord\n",
      "number_of_elements   = setup.NumElem\n",
      "connectivity         = setup.Incid\n",
      "material_properties  = setup.PropMat\n",
      "geometric_properties = setup.PropGeo\n",
      "dirichlet_bc         = setup.CCDirichlet\n",
      "newmann_bc           = setup.CCNewmann\n",
      "body_force           = setup.Fcorpo"
     ],
     "language": "python",
     "metadata": {},
     "outputs": [],
     "prompt_number": 3
    },
    {
     "cell_type": "markdown",
     "metadata": {},
     "source": [
      "The method below is an auxiliary method that will plot the results that we'll obtain from the FEM simulation."
     ]
    },
    {
     "cell_type": "code",
     "collapsed": false,
     "input": [
      "def ViewMesh(\n",
      "    coord, \n",
      "    connec, \n",
      "    hold=False, \n",
      "    show=True, \n",
      "    label='unknown', \n",
      "    node_color='r', \n",
      "    edge_color='k'\n",
      "    ):\n",
      "    \n",
      "    import networkx as nx    \n",
      "    G = nx.Graph()\n",
      "    \n",
      "    number_of_nodes = coord.shape[0]\n",
      "    \n",
      "    for i,j,k in connec:        \n",
      "        G.add_edge(i,j)\n",
      "        G.add_edge(i,k)\n",
      "        G.add_edge(j,k)\n",
      "\n",
      "    pos = {}\n",
      "    for n in xrange(number_of_nodes):\n",
      "        pos[n] = coord[n]\n",
      "    \n",
      "    node_size = 15 + (1000 / number_of_nodes)\n",
      "    nx.draw(G, pos=pos, hold=hold, node_color=node_color, \n",
      "            label=label, edge_color=edge_color, node_size=node_size)\n",
      "    \n",
      "    if show:\n",
      "        pyplot.show()"
     ],
     "language": "python",
     "metadata": {},
     "outputs": [],
     "prompt_number": 4
    },
    {
     "cell_type": "code",
     "collapsed": false,
     "input": [
      "def KeT3_EPT(coord, mat_prop, geo_prop, body_force):\n",
      "    '''\n",
      "    Method that returns the Stiffness Matrix \n",
      "    for the linear triangle element in plane \n",
      "    stress.    \n",
      "    \n",
      "    '''\n",
      "    Ex = mat_prop[0] # Young's modulus\n",
      "    Nu = mat_prop[1] # Poisson's ratio\n",
      "    t  = geo_prop\n",
      "\n",
      "    # Auxiliary functions\n",
      "    a1 = - coord[1,0] + coord[2,0]\n",
      "    a2 = - coord[2,0] + coord[0,0]\n",
      "    a3 = - coord[0,0] + coord[1,0]\n",
      "\n",
      "    b1 = + coord[1,1] - coord[2,1]\n",
      "    b2 = + coord[2,1] - coord[0,1]\n",
      "    b3 = + coord[0,1] - coord[1,1]\n",
      "\n",
      "    d = (a3 * b2 - a2 * b3)\n",
      "    area = d / 2\n",
      "\n",
      "    B = (1 / d) * np.matrix([\n",
      "        [b1,    0,  b2,    0,  b3,    0], \n",
      "        [ 0,   a1,   0,   a2,   0,   a3],\n",
      "        [a1,   b1,  a2,   b2,  a3,   b3]\n",
      "        ])\n",
      "\n",
      "    C = Ex / (1 - Nu ** 2) * np.matrix([\n",
      "        [ 1,  Nu,            0],\n",
      "        [Nu,   1,            0],\n",
      "        [ 0,   0, (1 - Nu) / 2] \n",
      "        ])\n",
      "\n",
      "    Ke = B.T * C * B * (area * t)\n",
      "\n",
      "    Fe1 = area * body_force[0,1] * t \\\n",
      "        * np.array([1/3, 0.0, 1/3, 0.0, 1/3, 0.0])\n",
      "        \n",
      "    Fe2 = area * body_force[1,1] * t \\\n",
      "        * np.array([0.0, 1/3, 0.0, 1/3, 0.0, 1/3])\n",
      "        \n",
      "    Fe = Fe1 + Fe2\n",
      "    \n",
      "    return Ke, Fe"
     ],
     "language": "python",
     "metadata": {},
     "outputs": [],
     "prompt_number": 5
    },
    {
     "cell_type": "code",
     "collapsed": false,
     "input": [
      "# --------------------------------------\n",
      "# Gera matriz ID que contabiliza equacoes\n",
      "# --------------------------------------\n",
      "\n",
      "count = 0\n",
      "ID = np.zeros((number_of_nodes, number_of_dof))\n",
      "for n in xrange(number_of_nodes):\n",
      "    for d in xrange(number_of_dof):\n",
      "        ID[n,d] = count\n",
      "        count += 1\n",
      " \n",
      "assert count == number_of_dof * number_of_nodes"
     ],
     "language": "python",
     "metadata": {},
     "outputs": [],
     "prompt_number": 6
    },
    {
     "cell_type": "markdown",
     "metadata": {},
     "source": [
      "Construction of global matrix $\\mathbf{K}$ and global vector $\\vec{F}$."
     ]
    },
    {
     "cell_type": "code",
     "collapsed": false,
     "input": [
      "size = number_of_dof * number_of_nodes\n",
      "\n",
      "K = np.zeros((size,size))\n",
      "F = np.zeros((size,1))\n",
      "\n",
      "size_el = number_of_dof * number_of_nodes_el\n",
      "\n",
      "for e in xrange(number_of_elements):\n",
      "    # ----------------------------------------------------\n",
      "    # Monta Vetor LM do elemento e coordenadas do elemento\n",
      "    # ----------------------------------------------------\n",
      "    LM = np.zeros(size_el)\n",
      "    coord_el = np.zeros((size_el,2))\n",
      "    \n",
      "    z = 0\n",
      "    for j in xrange(number_of_nodes_el):\n",
      "        J = connectivity[e,j]\n",
      "        for i in xrange(number_of_dof):\n",
      "            LM[z] = ID[J,i]\n",
      "            z += 1      \n",
      "\n",
      "        for k in xrange(2):\n",
      "            coord_el[j,k] = coordinates[J,k]\n",
      "       \n",
      "    # -------------------------------------\n",
      "    # Chama a funcao que calcula as \n",
      "    # matrizes elementares \"Ke\",\"Me\"\n",
      "    # e o vetor de carga elementar \"Fe\"\n",
      "    # -------------------------------------\n",
      "\n",
      "    Ke, Fe = KeT3_EPT(\n",
      "        coord_el, \n",
      "        material_properties, \n",
      "        geometric_properties,\n",
      "        body_force\n",
      "        )\n",
      "    \n",
      "    # ---------------------------------------------\n",
      "    # Insere a matriz Ke elementar na matriz global K\n",
      "    # Insere o vetor de carga Fe em F\n",
      "    # Insere a matriz Me na global M \n",
      "    # ---------------------------------------------\n",
      "   \n",
      "    for i in xrange(size_el):\n",
      "        I = LM[i]\n",
      "        \n",
      "        if I != 0:\n",
      "            for j in xrange(size_el):\n",
      "                J = LM[j]\n",
      "                if J != 0:                    \n",
      "                    K[I,J] = K[I,J] + Ke[i,j]\n",
      "                    \n",
      "            F[I] = F[I] + Fe[i] "
     ],
     "language": "python",
     "metadata": {},
     "outputs": [],
     "prompt_number": 7
    },
    {
     "cell_type": "markdown",
     "metadata": {},
     "source": [
      "Now we'll introduce the Newmann boundary condition to the load vector $\\vec{F}$:"
     ]
    },
    {
     "cell_type": "code",
     "collapsed": false,
     "input": [
      "for node, dof, value in newmann_bc:\n",
      "    eq    = ID[node,dof]\n",
      "    F[eq] = F[eq] + value"
     ],
     "language": "python",
     "metadata": {},
     "outputs": [],
     "prompt_number": 8
    },
    {
     "cell_type": "markdown",
     "metadata": {},
     "source": [
      "And similarly for the Dirichlet boundary condition:"
     ]
    },
    {
     "cell_type": "code",
     "collapsed": false,
     "input": [
      "for node, dof, value in dirichlet_bc:    \n",
      "    eq = ID[node,dof]\n",
      "    for g in xrange(size):\n",
      "        F[g] = F[g] - value * K[g,eq]\n",
      "        K[eq,g] = 0\n",
      "        K[g,eq] = 0\n",
      "   \n",
      "    K[eq,eq] = 1\n",
      "    F[eq] = value"
     ],
     "language": "python",
     "metadata": {},
     "outputs": [],
     "prompt_number": 9
    },
    {
     "cell_type": "markdown",
     "metadata": {},
     "source": [
      "Let's solve the resulting linear system $\\mathbf{K} \\vec{U} = \\vec{F}$ for the static problem:"
     ]
    },
    {
     "cell_type": "code",
     "collapsed": false,
     "input": [
      "U = np.linalg.solve(K, F)"
     ],
     "language": "python",
     "metadata": {},
     "outputs": [],
     "prompt_number": 10
    },
    {
     "cell_type": "markdown",
     "metadata": {},
     "source": [
      "With the resulting deformation vector $\\vec{U}$ we can generate the deformed coordinates for the elements:"
     ]
    },
    {
     "cell_type": "code",
     "collapsed": false,
     "input": [
      "coord_def = np.zeros((number_of_nodes, 2))\n",
      "Uf = np.zeros((number_of_nodes, number_of_dof))\n",
      "\n",
      "b = 0\n",
      "for i in xrange(number_of_nodes):\n",
      "    for j in xrange(number_of_dof):\n",
      "        Uf[i,j] = U[b]\n",
      "        b += 1\n",
      "\n",
      "# Amplifying factor for vizualization purposes\n",
      "factor = 100\n",
      "\n",
      "for i in xrange(number_of_nodes):\n",
      "    coord_def[i,0] = coordinates[i,0] + factor * Uf[i,0]\n",
      "    coord_def[i,1] = coordinates[i,1] + factor * Uf[i,1]"
     ],
     "language": "python",
     "metadata": {},
     "outputs": [],
     "prompt_number": 11
    },
    {
     "cell_type": "markdown",
     "metadata": {},
     "source": [
      "## View results"
     ]
    },
    {
     "cell_type": "code",
     "collapsed": false,
     "input": [
      "ViewMesh(coord_def, connectivity, hold=True, show=False, \n",
      "         label='Deformed', node_color='r', edge_color='k')\n",
      "ViewMesh(coordinates, connectivity, hold=True, show=False, \n",
      "         label='Original', node_color='b', edge_color='0.5')\n",
      "\n",
      "ax = plt.gca()\n",
      "handles, labels = ax.get_legend_handles_labels()\n",
      "\n",
      "plt.legend(handles=[handles[0], handles[2]],bbox_to_anchor=(0.8, 1),\n",
      "           bbox_transform=plt.gcf().transFigure)\n",
      "plt.show()"
     ],
     "language": "python",
     "metadata": {},
     "outputs": [
      {
       "ename": "TypeError",
       "evalue": "__init__() got multiple values for keyword argument 'handles'",
       "output_type": "pyerr",
       "traceback": [
        "\u001b[1;31m---------------------------------------------------------------------------\u001b[0m\n\u001b[1;31mTypeError\u001b[0m                                 Traceback (most recent call last)",
        "\u001b[1;32m<ipython-input-15-966df600afff>\u001b[0m in \u001b[0;36m<module>\u001b[1;34m()\u001b[0m\n\u001b[0;32m      8\u001b[0m \u001b[1;33m\u001b[0m\u001b[0m\n\u001b[0;32m      9\u001b[0m plt.legend(handles=[handles[0], handles[2]],bbox_to_anchor=(0.8, 1),\n\u001b[1;32m---> 10\u001b[1;33m            bbox_transform=plt.gcf().transFigure)\n\u001b[0m\u001b[0;32m     11\u001b[0m \u001b[0mplt\u001b[0m\u001b[1;33m.\u001b[0m\u001b[0mshow\u001b[0m\u001b[1;33m(\u001b[0m\u001b[1;33m)\u001b[0m\u001b[1;33m\u001b[0m\u001b[0m\n",
        "\u001b[1;32mD:\\Miniconda\\envs\\py27\\lib\\site-packages\\matplotlib\\pyplot.pyc\u001b[0m in \u001b[0;36mlegend\u001b[1;34m(*args, **kwargs)\u001b[0m\n\u001b[0;32m   3379\u001b[0m \u001b[1;33m@\u001b[0m\u001b[0mdocstring\u001b[0m\u001b[1;33m.\u001b[0m\u001b[0mcopy_dedent\u001b[0m\u001b[1;33m(\u001b[0m\u001b[0mAxes\u001b[0m\u001b[1;33m.\u001b[0m\u001b[0mlegend\u001b[0m\u001b[1;33m)\u001b[0m\u001b[1;33m\u001b[0m\u001b[0m\n\u001b[0;32m   3380\u001b[0m \u001b[1;32mdef\u001b[0m \u001b[0mlegend\u001b[0m\u001b[1;33m(\u001b[0m\u001b[1;33m*\u001b[0m\u001b[0margs\u001b[0m\u001b[1;33m,\u001b[0m \u001b[1;33m**\u001b[0m\u001b[0mkwargs\u001b[0m\u001b[1;33m)\u001b[0m\u001b[1;33m:\u001b[0m\u001b[1;33m\u001b[0m\u001b[0m\n\u001b[1;32m-> 3381\u001b[1;33m     \u001b[0mret\u001b[0m \u001b[1;33m=\u001b[0m \u001b[0mgca\u001b[0m\u001b[1;33m(\u001b[0m\u001b[1;33m)\u001b[0m\u001b[1;33m.\u001b[0m\u001b[0mlegend\u001b[0m\u001b[1;33m(\u001b[0m\u001b[1;33m*\u001b[0m\u001b[0margs\u001b[0m\u001b[1;33m,\u001b[0m \u001b[1;33m**\u001b[0m\u001b[0mkwargs\u001b[0m\u001b[1;33m)\u001b[0m\u001b[1;33m\u001b[0m\u001b[0m\n\u001b[0m\u001b[0;32m   3382\u001b[0m     \u001b[0mdraw_if_interactive\u001b[0m\u001b[1;33m(\u001b[0m\u001b[1;33m)\u001b[0m\u001b[1;33m\u001b[0m\u001b[0m\n\u001b[0;32m   3383\u001b[0m     \u001b[1;32mreturn\u001b[0m \u001b[0mret\u001b[0m\u001b[1;33m\u001b[0m\u001b[0m\n",
        "\u001b[1;32mD:\\Miniconda\\envs\\py27\\lib\\site-packages\\matplotlib\\axes.pyc\u001b[0m in \u001b[0;36mlegend\u001b[1;34m(self, *args, **kwargs)\u001b[0m\n\u001b[0;32m   4776\u001b[0m         \u001b[1;31m# handles = cbook.flatten(handles)\u001b[0m\u001b[1;33m\u001b[0m\u001b[1;33m\u001b[0m\u001b[0m\n\u001b[0;32m   4777\u001b[0m \u001b[1;33m\u001b[0m\u001b[0m\n\u001b[1;32m-> 4778\u001b[1;33m         \u001b[0mself\u001b[0m\u001b[1;33m.\u001b[0m\u001b[0mlegend_\u001b[0m \u001b[1;33m=\u001b[0m \u001b[0mmlegend\u001b[0m\u001b[1;33m.\u001b[0m\u001b[0mLegend\u001b[0m\u001b[1;33m(\u001b[0m\u001b[0mself\u001b[0m\u001b[1;33m,\u001b[0m \u001b[0mhandles\u001b[0m\u001b[1;33m,\u001b[0m \u001b[0mlabels\u001b[0m\u001b[1;33m,\u001b[0m \u001b[1;33m**\u001b[0m\u001b[0mkwargs\u001b[0m\u001b[1;33m)\u001b[0m\u001b[1;33m\u001b[0m\u001b[0m\n\u001b[0m\u001b[0;32m   4779\u001b[0m         \u001b[1;32mreturn\u001b[0m \u001b[0mself\u001b[0m\u001b[1;33m.\u001b[0m\u001b[0mlegend_\u001b[0m\u001b[1;33m\u001b[0m\u001b[0m\n\u001b[0;32m   4780\u001b[0m \u001b[1;33m\u001b[0m\u001b[0m\n",
        "\u001b[1;31mTypeError\u001b[0m: __init__() got multiple values for keyword argument 'handles'"
       ]
      }
     ],
     "prompt_number": 15
    },
    {
     "cell_type": "code",
     "collapsed": false,
     "input": [
      "def StressT3_EPT(coord, UEl, mat_prop, geo_prop):\n",
      "    '''\n",
      "    Method that returns the Stresses for the \n",
      "    linear triangle element in plane stress.    \n",
      "    \n",
      "    '''    \n",
      "    Ex = mat_prop[0] # Young's modulus\n",
      "    Nu = mat_prop[1] # Poisson's ratio\n",
      "    t  = geo_prop\n",
      "\n",
      "    # Auxiliary functions\n",
      "    a1 = - coord[1,0] + coord[2,0]\n",
      "    a2 = - coord[2,0] + coord[0,0]\n",
      "    a3 = - coord[0,0] + coord[1,0]\n",
      "\n",
      "    b1 = + coord[1,1] - coord[2,1]\n",
      "    b2 = + coord[2,1] - coord[0,1]\n",
      "    b3 = + coord[0,1] - coord[1,1]\n",
      "\n",
      "    d = (a3 * b2 - a2 * b3)\n",
      "    area = d / 2\n",
      "\n",
      "    B = (1 / d) * np.matrix([\n",
      "        [b1,    0,  b2,    0,  b3,    0], \n",
      "        [ 0,   a1,   0,   a2,   0,   a3],\n",
      "        [a1,   b1,  a2,   b2,  a3,   b3]\n",
      "        ])\n",
      "\n",
      "    C = Ex / (1 - Nu ** 2) * np.matrix([\n",
      "        [ 1,  Nu,            0],\n",
      "        [Nu,   1,            0],\n",
      "        [ 0,   0, (1 - Nu) / 2] \n",
      "        ])   \n",
      "\n",
      "    StressE = C * B * UEl.T\n",
      "       \n",
      "    # Create 2D stress matrix\n",
      "    S = np.zeros((number_of_dof, number_of_dof))\n",
      "    S[0,0] = StressE[0]\n",
      "    S[1,1] = StressE[1]\n",
      "    S[1,0] = S[0,1] = StressE[2]\n",
      "    \n",
      "    # Tensao Sz is ZERO\n",
      "    StressE = np.append(StressE, [[0]], axis=0)\n",
      "    \n",
      "    # Calculate principal stresses by \n",
      "    # finding the eigenvalues of S \n",
      "    w, v = np.linalg.eig(S)\n",
      "    s1, s2 = w\n",
      "    \n",
      "    # Von Mises Stress\n",
      "    SVME = np.sqrt(s1 ** 2 - s1*s2 + s2 ** 2)\n",
      "\n",
      "    # Tresca Stress\n",
      "    STRE = 0.5 * np.abs(s1 - s2)\n",
      "\n",
      "    return StressE, SVME, STRE"
     ],
     "language": "python",
     "metadata": {},
     "outputs": [],
     "prompt_number": 40
    },
    {
     "cell_type": "markdown",
     "metadata": {},
     "source": [
      "## Stress calculation"
     ]
    },
    {
     "cell_type": "code",
     "collapsed": false,
     "input": [
      "count = np.zeros(number_of_nodes)\n",
      "Sx   = np.zeros(number_of_nodes)\n",
      "Sy   = np.zeros(number_of_nodes)\n",
      "Sxy  = np.zeros(number_of_nodes)\n",
      "Sz   = np.zeros(number_of_nodes)\n",
      "SVM  = np.zeros(number_of_nodes)\n",
      "STR  = np.zeros(number_of_nodes)\n",
      "\n",
      "# calcula tensoes e faz as medias.\n",
      "for e in xrange(number_of_elements):\n",
      "    # ----------------------------------------------------\n",
      "    # Monta Vetor LM do elemento, coordenadas e deslocamentos do elemento\n",
      "    # ----------------------------------------------------\n",
      "    LM = np.zeros(size_el)\n",
      "    UEl = np.zeros(size_el)    \n",
      "    coord_el = np.zeros((size_el,2))\n",
      "    \n",
      "    z = 0\n",
      "    for j in xrange(number_of_nodes_el):\n",
      "        J = connectivity[e,j]\n",
      "        for i in xrange(number_of_dof):\n",
      "            LM[z]  = ID[J,i]\n",
      "            UEl[z] = Uf[J,i]\n",
      "            z += 1\n",
      "      \n",
      "        for k in xrange(2):\n",
      "            coord_el[j,k] = coordinates[J,k]\n",
      "   \n",
      "    # -------------------------------------\n",
      "    # Chama a funcao que calcula as \n",
      "    # matrizes elementares \"Ke\",\"Me\"\n",
      "    # e o vetor de carga elementar \"Fe\"\n",
      "    # -------------------------------------\n",
      "\n",
      "    StressE, SVME, STRE = StressT3_EPT(\n",
      "        coord_el, \n",
      "        np.matrix(UEl), \n",
      "        material_properties, \n",
      "        geometric_properties\n",
      "        )   \n",
      "    \n",
      "    # ---------------------------------------------\n",
      "    # Insere a matriz Ke elementar na matriz global K\n",
      "    # Insere o vetor de carga Fe em F\n",
      "    # Insere a matriz Me na global M \n",
      "    # ---------------------------------------------\n",
      "   \n",
      "    i, j, k = connectivity[e]\n",
      "\n",
      "    Sx[i] = Sx[i] + StressE[0]\n",
      "    Sx[j] = Sx[j] + StressE[0]\n",
      "    Sx[k] = Sx[k] + StressE[0]\n",
      "\n",
      "    Sy[i] = Sy[i] + StressE[1]\n",
      "    Sy[j] = Sy[j] + StressE[1]\n",
      "    Sy[k] = Sy[k] + StressE[1]\n",
      "\n",
      "    Sxy[i] = Sxy[i] + StressE[2]\n",
      "    Sxy[j] = Sxy[j] + StressE[2]\n",
      "    Sxy[k] = Sxy[k] + StressE[2]\n",
      "\n",
      "    Sz[i] = Sz[i] + StressE[3]\n",
      "    Sz[j] = Sz[j] + StressE[3]\n",
      "    Sz[k] = Sz[k] + StressE[3]\n",
      "\n",
      "    SVM[i] = SVM[i] + SVME\n",
      "    SVM[j] = SVM[j] + SVME\n",
      "    SVM[k] = SVM[k] + SVME\n",
      "\n",
      "    STR[i] = STR[i] + STRE\n",
      "    STR[j] = STR[j] + STRE\n",
      "    STR[k] = STR[k] + STRE\n",
      "\n",
      "    count[i] += 1\n",
      "    count[j] += 1\n",
      "    count[k] += 1\n",
      "\n",
      "# Divide by counters\n",
      "for i in xrange(number_of_nodes):\n",
      "    Sx[i]  = Sx[i] /count[i]\n",
      "    Sy[i]  = Sy[i] /count[i]\n",
      "    Sxy[i] = Sxy[i]/count[i]\n",
      "    Sz[i]  = Sz[i] /count[i]\n",
      "    SVM[i] = SVM[i]/count[i]\n",
      "    STR[i] = STR[i]/count[i]"
     ],
     "language": "python",
     "metadata": {},
     "outputs": [],
     "prompt_number": 41
    },
    {
     "cell_type": "markdown",
     "metadata": {},
     "source": [
      "Let's try to view the stress field"
     ]
    },
    {
     "cell_type": "code",
     "collapsed": false,
     "input": [
      "from matplotlib.mlab import griddata\n",
      "\n",
      "x = coordinates[:,0]\n",
      "y = coordinates[:,1]\n",
      "\n",
      "# Choose with stress you want to vizualize: \n",
      "# Sx, Sy, Sxy, Sz, SVM or STR\n",
      "z = SVM\n",
      "\n",
      "# define grid.\n",
      "xi = np.linspace(x.min(), x.max(), 500)\n",
      "yi = np.linspace(y.min(), y.max(), 500)\n",
      "\n",
      "# grid the data.\n",
      "zi = griddata(x, y, z, xi, yi, interp='linear')\n",
      "\n",
      "# contour the gridded data, plotting dots at the nonuniform data points.\n",
      "CS = plt.contour(xi, yi, zi, 15, linewidths=0.5, colors='k')\n",
      "CS = plt.contourf(xi, yi, zi, 15, cmap=plt.cm.rainbow,\n",
      "                  vmax=abs(zi).max(), vmin=-abs(zi).max())\n",
      "plt.colorbar()  # draw colorbar\n",
      "\n",
      "# plot data points.\n",
      "plt.scatter(x, y, marker='o', c='b', s=5, zorder=10)\n",
      "\n",
      "plt.title('Stress Field')\n",
      "plt.show()"
     ],
     "language": "python",
     "metadata": {},
     "outputs": [
      {
       "ename": "ValueError",
       "evalue": "output grid must have constant spacing when using interp='linear'",
       "output_type": "pyerr",
       "traceback": [
        "\u001b[1;31m---------------------------------------------------------------------------\u001b[0m\n\u001b[1;31mValueError\u001b[0m                                Traceback (most recent call last)",
        "\u001b[1;32m<ipython-input-52-2bbb7751fa05>\u001b[0m in \u001b[0;36m<module>\u001b[1;34m()\u001b[0m\n\u001b[0;32m     13\u001b[0m \u001b[1;33m\u001b[0m\u001b[0m\n\u001b[0;32m     14\u001b[0m \u001b[1;31m# grid the data.\u001b[0m\u001b[1;33m\u001b[0m\u001b[1;33m\u001b[0m\u001b[0m\n\u001b[1;32m---> 15\u001b[1;33m \u001b[0mzi\u001b[0m \u001b[1;33m=\u001b[0m \u001b[0mgriddata\u001b[0m\u001b[1;33m(\u001b[0m\u001b[0mx\u001b[0m\u001b[1;33m,\u001b[0m \u001b[0my\u001b[0m\u001b[1;33m,\u001b[0m \u001b[0mz\u001b[0m\u001b[1;33m,\u001b[0m \u001b[0mxi\u001b[0m\u001b[1;33m,\u001b[0m \u001b[0myi\u001b[0m\u001b[1;33m,\u001b[0m \u001b[0minterp\u001b[0m\u001b[1;33m=\u001b[0m\u001b[1;34m'linear'\u001b[0m\u001b[1;33m)\u001b[0m\u001b[1;33m\u001b[0m\u001b[0m\n\u001b[0m\u001b[0;32m     16\u001b[0m \u001b[1;33m\u001b[0m\u001b[0m\n\u001b[0;32m     17\u001b[0m \u001b[1;31m# contour the gridded data, plotting dots at the nonuniform data points.\u001b[0m\u001b[1;33m\u001b[0m\u001b[1;33m\u001b[0m\u001b[0m\n",
        "\u001b[1;32mD:\\Miniconda\\envs\\py27\\lib\\site-packages\\matplotlib\\mlab.pyc\u001b[0m in \u001b[0;36mgriddata\u001b[1;34m(x, y, z, xi, yi, interp)\u001b[0m\n\u001b[0;32m   2617\u001b[0m             \u001b[0mepsy\u001b[0m \u001b[1;33m=\u001b[0m \u001b[0mnp\u001b[0m\u001b[1;33m.\u001b[0m\u001b[0mfinfo\u001b[0m\u001b[1;33m(\u001b[0m\u001b[0myi\u001b[0m\u001b[1;33m.\u001b[0m\u001b[0mdtype\u001b[0m\u001b[1;33m)\u001b[0m\u001b[1;33m.\u001b[0m\u001b[0mresolution\u001b[0m\u001b[1;33m\u001b[0m\u001b[0m\n\u001b[0;32m   2618\u001b[0m             \u001b[1;32mif\u001b[0m \u001b[0mdx\u001b[0m\u001b[1;33m.\u001b[0m\u001b[0mmax\u001b[0m\u001b[1;33m(\u001b[0m\u001b[1;33m)\u001b[0m\u001b[1;33m-\u001b[0m\u001b[0mdx\u001b[0m\u001b[1;33m.\u001b[0m\u001b[0mmin\u001b[0m\u001b[1;33m(\u001b[0m\u001b[1;33m)\u001b[0m \u001b[1;33m>\u001b[0m \u001b[0mepsx\u001b[0m \u001b[1;32mor\u001b[0m \u001b[0mdy\u001b[0m\u001b[1;33m.\u001b[0m\u001b[0mmax\u001b[0m\u001b[1;33m(\u001b[0m\u001b[1;33m)\u001b[0m\u001b[1;33m-\u001b[0m\u001b[0mdy\u001b[0m\u001b[1;33m.\u001b[0m\u001b[0mmin\u001b[0m\u001b[1;33m(\u001b[0m\u001b[1;33m)\u001b[0m \u001b[1;33m>\u001b[0m \u001b[0mepsy\u001b[0m\u001b[1;33m:\u001b[0m\u001b[1;33m\u001b[0m\u001b[0m\n\u001b[1;32m-> 2619\u001b[1;33m                 raise ValueError(\"output grid must have constant spacing\"\n\u001b[0m\u001b[0;32m   2620\u001b[0m                                  \" when using interp='linear'\")\n\u001b[0;32m   2621\u001b[0m             \u001b[0minterp\u001b[0m \u001b[1;33m=\u001b[0m \u001b[0mtri\u001b[0m\u001b[1;33m.\u001b[0m\u001b[0mlinear_interpolator\u001b[0m\u001b[1;33m(\u001b[0m\u001b[0mz\u001b[0m\u001b[1;33m)\u001b[0m\u001b[1;33m\u001b[0m\u001b[0m\n",
        "\u001b[1;31mValueError\u001b[0m: output grid must have constant spacing when using interp='linear'"
       ]
      }
     ],
     "prompt_number": 52
    },
    {
     "cell_type": "code",
     "collapsed": false,
     "input": [],
     "language": "python",
     "metadata": {},
     "outputs": [],
     "prompt_number": 42
    },
    {
     "cell_type": "code",
     "collapsed": false,
     "input": [],
     "language": "python",
     "metadata": {},
     "outputs": []
    }
   ],
   "metadata": {}
  }
 ]
}